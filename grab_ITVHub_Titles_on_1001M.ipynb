{
  "nbformat": 4,
  "nbformat_minor": 0,
  "metadata": {
    "colab": {
      "name": "grab_ITVHub_Titles_on_1001M",
      "version": "0.3.2",
      "provenance": [],
      "collapsed_sections": [],
      "include_colab_link": true
    },
    "kernelspec": {
      "display_name": "Python 3",
      "language": "python",
      "name": "python3"
    }
  },
  "cells": [
    {
      "cell_type": "markdown",
      "metadata": {
        "id": "view-in-github",
        "colab_type": "text"
      },
      "source": [
        "<a href=\"https://colab.research.google.com/github/JasmineElm/Notebooks/blob/master/grab_ITVHub_Titles_on_1001M.ipynb\" target=\"_parent\"><img src=\"https://colab.research.google.com/assets/colab-badge.svg\" alt=\"Open In Colab\"/></a>"
      ]
    },
    {
      "cell_type": "code",
      "metadata": {
        "id": "Q6bM_TQIQ_Mr",
        "colab_type": "code",
        "colab": {}
      },
      "source": [
        "import pandas as pd\n",
        "from bs4 import BeautifulSoup\n",
        "from time import sleep\n",
        "from random import randint\n",
        "from tabulate import tabulate #to export dataframe as markdown table\n",
        "import requests,urllib.request, json \n",
        "\n",
        "def parseOMDB(query, full=False):\n",
        "  \"\"\" queries OMDB returns data in a format similar to\n",
        "      that used by the 1001 Movies List (full=True)\n",
        "  \"\"\"\n",
        "  metadata=[]\n",
        "  with urllib.request.urlopen(query) as url:\n",
        "      data = json.loads(url.read().decode())\n",
        "      if full:\n",
        "        metadata.append(data['Title'])\n",
        "        metadata.append(data['Metascore'])\n",
        "        metadata.append(data['Genre'])\n",
        "        metadata.append(data['Director'])\n",
        "        metadata.append(data['Language'])\n",
        "        metadata.append(data['Country'])\n",
        "        metadata.append(data['imdbRating'])\n",
        "        metadata.append(data['Year'][:4])\n",
        "        metadata.append(data['Plot'])\n",
        "        metadata.append(data['Awards'])\n",
        "        metadata.append(data['imdbID'])\n",
        "        metadata.append(data['Runtime'][:-4])\n",
        "      else:\n",
        "        metadata.append(data['Title'])\n",
        "        metadata.append(data['Year'])\n",
        "  return metadata\n",
        "\n",
        "def buildOMDBQuery(title, year=None, movie=True):\n",
        "  \"\"\" simple function to build a query string for OMDB\n",
        "      VERY beta: no logic around handling failed queries\n",
        "  \"\"\"\n",
        "  omdbURL='https://www.omdbapi.com/?apikey='\n",
        "  omdbAPI='' #your key here\n",
        "  title='&t='+title.replace(' and ',' ').replace(' ','+') \n",
        "  # 'and' can make the term too specific ('starsky and hutch' will not return the movie, 'starsky hutch' will)\n",
        "  query=omdbURL+omdbAPI+title\n",
        "  if year !=None:\n",
        "    query=query+'&y='+year\n",
        "  if movie == True:\n",
        "    query=query+'&type=movie'\n",
        "  return query\n",
        "\n"
      ],
      "execution_count": 0,
      "outputs": []
    },
    {
      "cell_type": "code",
      "metadata": {
        "id": "xMZ4DQvpmnlh",
        "colab_type": "code",
        "colab": {}
      },
      "source": [
        "## grab our 1001 Movies List, download, and load into a dataframe \n",
        "url ='https://gist.githubusercontent.com/JasmineElm/ce8219c58bd416c0aec588a97e168221/raw/57717b4ae21f1721b2e1c22d2e8a74795e0e54d4/netflixTitles.csv'\n",
        "r = requests.get(url)\n",
        "filename = url.split('/')[-1]\n",
        " \n",
        "with open(filename,'wb') as output_file:\n",
        "    output_file.write(r.content)\n",
        "\n",
        "ml=pd.read_csv(filename,index_col=[0])\n"
      ],
      "execution_count": 0,
      "outputs": []
    },
    {
      "cell_type": "code",
      "metadata": {
        "id": "FEdUbUeLe44D",
        "colab_type": "code",
        "colab": {}
      },
      "source": [
        "#download the webpage holding the movielist\n",
        "url='https://www.itv.com/hub/categories/films'\n",
        "page = requests.get(url)\n",
        "soup = BeautifulSoup(page.text, \"html.parser\")\n"
      ],
      "execution_count": 0,
      "outputs": []
    },
    {
      "cell_type": "code",
      "metadata": {
        "id": "Q02gXs1Wkh0z",
        "colab_type": "code",
        "colab": {}
      },
      "source": [
        "#at time of writing, there isn't enough entries to justify \n",
        "# pagination this may change in future?\n"
      ],
      "execution_count": 0,
      "outputs": []
    },
    {
      "cell_type": "code",
      "metadata": {
        "id": "mKeW5WK7qFld",
        "colab_type": "code",
        "outputId": "4653284c-d782-46e0-a690-b19d6e79449a",
        "colab": {
          "base_uri": "https://localhost:8080/",
          "height": 104
        }
      },
      "source": [
        "#like iPlayer, the metadata exists only on the individual pages.\n",
        "movieList=[]\n",
        "for category in soup.findAll('div',{'class','categories'}):\n",
        "  for link in category.findAll('a',{'class':'complex-link'}):\n",
        "    movieList.append(link.get('href'))\n",
        "movieList"
      ],
      "execution_count": 4,
      "outputs": [
        {
          "output_type": "execute_result",
          "data": {
            "text/plain": [
              "['https://www.itv.com/hub/carry-on-behind/CFD0107',\n",
              " 'https://www.itv.com/hub/carry-on-dick/CFD0109',\n",
              " 'https://www.itv.com/hub/carry-on-loving/CFD0116',\n",
              " 'https://www.itv.com/hub/carry-on-follow-that-camel/CFD0121',\n",
              " 'https://www.itv.com/hub/starsky-and-hutch/2a5351']"
            ]
          },
          "metadata": {
            "tags": []
          },
          "execution_count": 4
        }
      ]
    },
    {
      "cell_type": "code",
      "metadata": {
        "id": "jj_k08E3uUP9",
        "colab_type": "code",
        "outputId": "0e792509-16bf-4e19-e5c0-09b6a3d6fa77",
        "colab": {
          "base_uri": "https://localhost:8080/",
          "height": 263
        }
      },
      "source": [
        "#itvPlayer doesn't have a whole lot of metadata\n",
        "# lets' fill in the blanks using OMDB\n",
        "titles=[]\n",
        "omdbURL='https://www.omdbapi.com/?apikey='\n",
        "omdbAPI='67e402aa'\n",
        "\n",
        "outerList=[]\n",
        "for movie in movieList:\n",
        "  titles.append(movie)\n",
        "  page = requests.get(movie)\n",
        "  soup = BeautifulSoup(page.text, \"html.parser\")\n",
        "  title=soup.find('h1').text.replace('and','').replace(' ','+')\n",
        "  titles.append(buildOMDBQuery(title))\n",
        "  outerList.append(titles)\n",
        "  titles=[]\n",
        "for query in outerList:\n",
        "  queryResults=[]\n",
        "  queryResults=parseOMDB(query[1])\n",
        "  del query[1]\n",
        "  for result in queryResults:\n",
        "    query.append(result)\n",
        "outerList"
      ],
      "execution_count": 9,
      "outputs": [
        {
          "output_type": "execute_result",
          "data": {
            "text/plain": [
              "[['https://www.itv.com/hub/carry-on-behind/CFD0107',\n",
              "  'Carry on Behind',\n",
              "  '1975'],\n",
              " ['https://www.itv.com/hub/carry-on-dick/CFD0109', 'Carry on Dick', '1974'],\n",
              " ['https://www.itv.com/hub/carry-on-loving/CFD0116',\n",
              "  'Carry on Loving',\n",
              "  '1970'],\n",
              " ['https://www.itv.com/hub/carry-on-follow-that-camel/CFD0121',\n",
              "  'Carry On... Follow That Camel',\n",
              "  '1967'],\n",
              " ['https://www.itv.com/hub/starsky-and-hutch/2a5351',\n",
              "  'Starsky & Hutch',\n",
              "  '2004']]"
            ]
          },
          "metadata": {
            "tags": []
          },
          "execution_count": 9
        }
      ]
    },
    {
      "cell_type": "markdown",
      "metadata": {
        "id": "eheuN3a2e4g2",
        "colab_type": "text"
      },
      "source": [
        ""
      ]
    },
    {
      "cell_type": "code",
      "metadata": {
        "id": "ZzrARuHKwNvP",
        "colab_type": "code",
        "outputId": "c02e474f-6aec-4609-9fa5-c22d767174e1",
        "colab": {
          "base_uri": "https://localhost:8080/",
          "height": 34
        }
      },
      "source": [
        "#clean up our movie list\n",
        "df=pd.DataFrame(data=outerList, columns=['Link','Title','Year']).dropna()\n",
        "df['Year']=df['Year'].str[-4:]\n",
        "df=df.dropna().astype({'Year': 'int64'})\n",
        "#merge it with the 1001 movies list\n",
        "on_nf = pd.merge(ml, df,  how='inner', left_on=['Title','Year'], right_on = ['Title','Year'])\n",
        "\n",
        "#generate a nice markdown table that can be pasted into Reddit\n",
        "if(on_nf.shape[0]>0):\n",
        "  print(tabulate(on_nf.drop(['Metascore','Language','Country','IMDBRating', 'Plot','Awards','imdbID','Query'],axis=1).sort_values('Title')\n",
        "  , tablefmt=\"pipe\", headers=\"keys\", showindex=False))\n",
        "else:\n",
        "  print(\"no matches\")"
      ],
      "execution_count": 6,
      "outputs": [
        {
          "output_type": "stream",
          "text": [
            "no matches\n"
          ],
          "name": "stdout"
        }
      ]
    }
  ]
}