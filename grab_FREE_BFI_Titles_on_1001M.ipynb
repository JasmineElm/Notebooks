{
  "nbformat": 4,
  "nbformat_minor": 0,
  "metadata": {
    "colab": {
      "name": "grab_FREE_BFI_Titles_on_1001M",
      "version": "0.3.2",
      "provenance": [],
      "collapsed_sections": [],
      "include_colab_link": true
    },
    "kernelspec": {
      "display_name": "Python 3",
      "language": "python",
      "name": "python3"
    }
  },
  "cells": [
    {
      "cell_type": "markdown",
      "metadata": {
        "id": "view-in-github",
        "colab_type": "text"
      },
      "source": [
        "<a href=\"https://colab.research.google.com/github/JasmineElm/Notebooks/blob/master/grab_FREE_BFI_Titles_on_1001M.ipynb\" target=\"_parent\"><img src=\"https://colab.research.google.com/assets/colab-badge.svg\" alt=\"Open In Colab\"/></a>"
      ]
    },
    {
      "cell_type": "code",
      "metadata": {
        "id": "Q6bM_TQIQ_Mr",
        "colab_type": "code",
        "colab": {}
      },
      "source": [
        "import pandas as pd\n",
        "import numpy as np\n",
        "from bs4 import BeautifulSoup\n",
        "from time import sleep\n",
        "from random import randint\n",
        "from tabulate import tabulate #to export dataframe as markdown table\n",
        "import requests,urllib.request, json "
      ],
      "execution_count": 0,
      "outputs": []
    },
    {
      "cell_type": "code",
      "metadata": {
        "id": "xMZ4DQvpmnlh",
        "colab_type": "code",
        "colab": {}
      },
      "source": [
        "## grab our 1001 Movies List, download, and load into a dataframe \n",
        "url ='https://gist.githubusercontent.com/JasmineElm/ce8219c58bd416c0aec588a97e168221/raw/57717b4ae21f1721b2e1c22d2e8a74795e0e54d4/netflixTitles.csv'\n",
        "r = requests.get(url)\n",
        "filename = url.split('/')[-1]\n",
        " \n",
        "with open(filename,'wb') as output_file:\n",
        "    output_file.write(r.content)\n",
        "\n",
        "ml=pd.read_csv(filename,index_col=[0])\n"
      ],
      "execution_count": 0,
      "outputs": []
    },
    {
      "cell_type": "code",
      "metadata": {
        "id": "FEdUbUeLe44D",
        "colab_type": "code",
        "colab": {
          "base_uri": "https://localhost:8080/",
          "height": 34
        },
        "outputId": "7077f548-79aa-42c0-c1d1-fe0dfb1031ff"
      },
      "source": [
        "# free films are split into collections.  each collection is housed on a separate page.\n",
        "# build a list of these collection links.\n",
        "collections=[]\n",
        "url='https://player.bfi.org.uk/free/collections'\n",
        "page = requests.get(url)\n",
        "soup = BeautifulSoup(page.text, \"html5lib\")\n",
        "base='https://player.bfi.org.uk'\n",
        "\n",
        "for collection in soup.findAll('div',{'class':'collection-card'}):\n",
        "  collections.append(base+collection.find('a').get('href'))\n",
        "\n",
        "print(len(collections))"
      ],
      "execution_count": 136,
      "outputs": [
        {
          "output_type": "stream",
          "text": [
            "74\n"
          ],
          "name": "stdout"
        }
      ]
    },
    {
      "cell_type": "code",
      "metadata": {
        "id": "TIPfPp8V8Nw5",
        "colab_type": "code",
        "colab": {
          "base_uri": "https://localhost:8080/",
          "height": 1000
        },
        "outputId": "a947672e-c0d8-4119-b63d-d4873f3790f3"
      },
      "source": [
        "movieList=[]\n",
        "movieInfo=[]\n",
        "progress=len(collections)\n",
        "\n",
        "for idx,collection in enumerate(collections):\n",
        "  print(str(int(((len(collections)-idx)/len(collections)*100)))+'%\\t',end='')\n",
        "  sleep(randint(0,2)) #let's not spam the server\n",
        "  page = requests.get(collection)\n",
        "  soup = BeautifulSoup(page.text, \"html5lib\")\n",
        "  for card in soup.findAll('div',{'class':'card--free'}):\n",
        "    movieInfo=[]\n",
        "    movieInfo.append(base+card.find('a').get('href')) #direct link  \n",
        "    movieInfo.append(card.find('h3').find('span').text) #title\n",
        "    if len(card.find('p',{'class':'card__info'}).select(\"span:nth-of-type(2)\")[0].text)==4:\n",
        "      movieInfo.append(card.find('p',{'class':'card__info'}).select(\"span:nth-of-type(2)\")[0].text)\n",
        "    else:\n",
        "      movieInfo.append('0') #hacky way to ensure only years are parsed - needs fixing\n",
        "    movieList.append(movieInfo)"
      ],
      "execution_count": 152,
      "outputs": [
        {
          "output_type": "stream",
          "text": [
            "100% \n",
            "98% \n",
            "97% \n",
            "95% \n",
            "94% \n",
            "93% \n",
            "91% \n",
            "90% \n",
            "89% \n",
            "87% \n",
            "86% \n",
            "85% \n",
            "83% \n",
            "82% \n",
            "81% \n",
            "79% \n",
            "78% \n",
            "77% \n",
            "75% \n",
            "74% \n",
            "72% \n",
            "71% \n",
            "70% \n",
            "68% \n",
            "67% \n",
            "66% \n",
            "64% \n",
            "63% \n",
            "62% \n",
            "60% \n",
            "59% \n",
            "58% \n",
            "56% \n",
            "55% \n",
            "54% \n",
            "52% \n",
            "51% \n",
            "50% \n",
            "48% \n",
            "47% \n",
            "45% \n",
            "44% \n",
            "43% \n",
            "41% \n",
            "40% \n",
            "39% \n",
            "37% \n",
            "36% \n",
            "35% \n",
            "33% \n",
            "32% \n",
            "31% \n",
            "29% \n",
            "28% \n",
            "27% \n",
            "25% \n",
            "24% \n",
            "22% \n",
            "21% \n",
            "20% \n",
            "18% \n",
            "17% \n",
            "16% \n",
            "14% \n",
            "13% \n",
            "12% \n",
            "10% \n",
            "9% \n",
            "8% \n",
            "6% \n",
            "5% \n",
            "4% \n",
            "2% \n",
            "1% \n"
          ],
          "name": "stdout"
        }
      ]
    },
    {
      "cell_type": "markdown",
      "metadata": {
        "id": "eheuN3a2e4g2",
        "colab_type": "text"
      },
      "source": [
        ""
      ]
    },
    {
      "cell_type": "code",
      "metadata": {
        "id": "ZzrARuHKwNvP",
        "colab_type": "code",
        "outputId": "6bebceb4-2ece-496c-c100-65df98cd16fe",
        "colab": {
          "base_uri": "https://localhost:8080/",
          "height": 89
        }
      },
      "source": [
        "#clean up our movie list\n",
        "df=pd.DataFrame(data=movieList, columns=['Link','Title','Year']).dropna()\n",
        "df['Year']=df['Year'].str[-4:]\n",
        "df=df.dropna().astype({'Year': 'int64'})\n",
        "#merge it with the 1001 movies list\n",
        "on_nf = pd.merge(ml, df,  how='inner', left_on=['Title','Year'], right_on = ['Title','Year'])\n",
        "\n",
        "#generate a nice markdown table that can be pasted into Reddit\n",
        "if(on_nf.shape[0]>0):\n",
        "  print(tabulate(on_nf.drop(['Metascore','Language','Country','IMDBRating', 'Plot','Awards','imdbID'],axis=1).sort_values('Title')\n",
        "  , tablefmt=\"pipe\", headers=\"keys\", showindex=False))\n",
        "else:\n",
        "  print(\"no matches\")"
      ],
      "execution_count": 153,
      "outputs": [
        {
          "output_type": "stream",
          "text": [
            "| Title              | Genre                             | Director       |   Year |   Runtime | Link                                                                     |\n",
            "|:-------------------|:----------------------------------|:---------------|-------:|----------:|:-------------------------------------------------------------------------|\n",
            "| A Trip to the Moon | Short, Adventure, Fantasy, Sci-Fi | Georges Méliès |   1902 |        13 | https://player.bfi.org.uk/free/film/watch-a-trip-to-the-moon-1902-online |\n"
          ],
          "name": "stdout"
        }
      ]
    }
  ]
}