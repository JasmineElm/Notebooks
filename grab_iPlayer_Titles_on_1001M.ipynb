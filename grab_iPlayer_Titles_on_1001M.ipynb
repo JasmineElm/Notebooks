{
  "nbformat": 4,
  "nbformat_minor": 0,
  "metadata": {
    "colab": {
      "name": "grab_iPlayer_Titles_on_1001M",
      "version": "0.3.2",
      "provenance": [],
      "collapsed_sections": [],
      "include_colab_link": true
    },
    "kernelspec": {
      "display_name": "Python 3",
      "language": "python",
      "name": "python3"
    }
  },
  "cells": [
    {
      "cell_type": "markdown",
      "metadata": {
        "id": "view-in-github",
        "colab_type": "text"
      },
      "source": [
        "<a href=\"https://colab.research.google.com/github/JasmineElm/Notebooks/blob/master/grab_iPlayer_Titles_on_1001M.ipynb\" target=\"_parent\"><img src=\"https://colab.research.google.com/assets/colab-badge.svg\" alt=\"Open In Colab\"/></a>"
      ]
    },
    {
      "cell_type": "markdown",
      "metadata": {
        "id": "NckDW0kRQ6e6",
        "colab_type": "text"
      },
      "source": [
        "\n"
      ]
    },
    {
      "cell_type": "markdown",
      "metadata": {
        "id": "yHWpmuDPQ396",
        "colab_type": "text"
      },
      "source": [
        ""
      ]
    },
    {
      "cell_type": "code",
      "metadata": {
        "id": "Q6bM_TQIQ_Mr",
        "colab_type": "code",
        "colab": {}
      },
      "source": [
        "import pandas as pd\n",
        "from bs4 import BeautifulSoup\n",
        "import requests\n",
        "from time import sleep\n",
        "from random import randint\n",
        "from tabulate import tabulate #to export dataframe as markdown table"
      ],
      "execution_count": 0,
      "outputs": []
    },
    {
      "cell_type": "code",
      "metadata": {
        "id": "xMZ4DQvpmnlh",
        "colab_type": "code",
        "colab": {}
      },
      "source": [
        "## grab our 1001 Movies List, download, and load into a dataframe \n",
        "url ='https://gist.githubusercontent.com/JasmineElm/ce8219c58bd416c0aec588a97e168221/raw/57717b4ae21f1721b2e1c22d2e8a74795e0e54d4/netflixTitles.csv'\n",
        "r = requests.get(url)\n",
        "filename = url.split('/')[-1]\n",
        " \n",
        "with open(filename,'wb') as output_file:\n",
        "    output_file.write(r.content)\n",
        "\n",
        "ml=pd.read_csv(filename,index_col=[0])\n"
      ],
      "execution_count": 0,
      "outputs": []
    },
    {
      "cell_type": "code",
      "metadata": {
        "id": "FEdUbUeLe44D",
        "colab_type": "code",
        "colab": {}
      },
      "source": [
        "#download the webpage holding the movielist\n",
        "url='https://www.bbc.co.uk/iplayer/categories/films/a-z'\n",
        "page = requests.get(url)\n",
        "soup = BeautifulSoup(page.text, \"html.parser\")\n"
      ],
      "execution_count": 0,
      "outputs": []
    },
    {
      "cell_type": "code",
      "metadata": {
        "id": "Q02gXs1Wkh0z",
        "colab_type": "code",
        "colab": {}
      },
      "source": [
        "# results are paginated, we need to build a list of those pages\n",
        "# pagination seems to take the form:\n",
        "# + [1][2][3] rather than \n",
        "# + [1][..][3][next] (i.e. each page has an explicit link)\n",
        "# this logic may need changing if iPlayer suddenly gets loads of movies...\n",
        "\n",
        "pageList=[url]\n",
        "for link in soup.find('div',{'class':'list__pagination'}).find_all('a'):\n",
        "  pageList.append(url+link.get('href'))\n",
        "\n",
        "pageList=set(pageList)"
      ],
      "execution_count": 0,
      "outputs": []
    },
    {
      "cell_type": "code",
      "metadata": {
        "id": "mKeW5WK7qFld",
        "colab_type": "code",
        "colab": {
          "base_uri": "https://localhost:8080/",
          "height": 52
        },
        "outputId": "8d232e4c-9d14-4956-a7b7-ed3db78e91bb"
      },
      "source": [
        "# for each page, we need to get the details of each movie.\n",
        "# these are held on separate pages.  \n",
        "# let's build a list of those links\n",
        "movieList=[]\n",
        "baseLink='https://www.bbc.co.uk'\n",
        "for page in pageList:\n",
        "  diary = requests.get(page)\n",
        "  soup = BeautifulSoup(diary.text, \"html.parser\")\n",
        "  for tile in soup.findAll('div',{'class':'content-item'}):\n",
        "    movieList.append(baseLink+tile.find('a').get('href'))"
      ],
      "execution_count": 12,
      "outputs": [
        {
          "output_type": "stream",
          "text": [
            "https://www.bbc.co.uk/iplayer/categories/films/a-z\n",
            "https://www.bbc.co.uk/iplayer/categories/films/a-z?page=2\n"
          ],
          "name": "stdout"
        }
      ]
    },
    {
      "cell_type": "code",
      "metadata": {
        "id": "jj_k08E3uUP9",
        "colab_type": "code",
        "colab": {
          "base_uri": "https://localhost:8080/",
          "height": 54
        },
        "outputId": "ebf9c498-c93f-4731-e8c9-26d64bebf73f"
      },
      "source": [
        "# for movie in movieList:\n",
        "outerList=[]\n",
        "for movie in movieList:\n",
        "  sleep(randint(0,3))\n",
        "  innerList=[movie]\n",
        "  page = requests.get(movie)\n",
        "  soup = BeautifulSoup(page.text, \"html.parser\")\n",
        "  movie=soup.find('div',{'class':'play-cta__title-container'}).text\n",
        "  innerList.append(soup.find('div',{'class':'play-cta__title-container'}).text)\n",
        "  meta=soup.find('div',{'class':'gel-layout'}).findAll('li')\n",
        "  for metadata in meta:\n",
        "    innerList.append(metadata.find('span',{'class':'episode-metadata__text'}).text)\n",
        "  outerList.append(innerList)\n",
        "print(outerList)"
      ],
      "execution_count": 13,
      "outputs": [
        {
          "output_type": "stream",
          "text": [
            "[['https://www.bbc.co.uk/iplayer/episode/p04b183c/adam-curtis-hypernormalisation', 'Adam Curtis', '167 mins', '16 Oct 2016', 'Available for over a year'], ['https://www.bbc.co.uk/iplayer/episode/p07ctvvn/a-high-school-rape-goes-viral-roll-red-roll', 'A High School Rape Goes Viral: Roll Red Roll', '74 mins', '23 Jun 2019', 'Available for 4 months'], ['https://www.bbc.co.uk/iplayer/episode/b0078cwc/a-simple-plan', 'A Simple Plan', '114 mins', '1998', 'Available for 4 months'], ['https://www.bbc.co.uk/iplayer/episode/b01dtlxl/the-awakening', 'The Awakening', '100 mins', '2011', 'Available for 24 days'], ['https://www.bbc.co.uk/iplayer/episode/b06vq3yn/the-big-short', 'The Big Short', '122 mins', '2015', 'Available for 10 days'], ['https://www.bbc.co.uk/iplayer/episode/m0006wg1/the-bleeder', 'The Bleeder', '90 mins', '2016', 'Available until Tue 2:05am'], ['https://www.bbc.co.uk/iplayer/episode/b010y7my/the-boy-in-the-striped-pyjamas', 'The Boy in the Striped Pyjamas', '88 mins', '2008', 'Available for 16 days'], ['https://www.bbc.co.uk/iplayer/episode/b06vyf02/brooklyn', 'Brooklyn', '102 mins', '2015', 'Available for 24 days'], ['https://www.bbc.co.uk/iplayer/episode/m0001qyv/bros-after-the-screaming-stops', 'Bros: After the Screaming Stops', '87 mins', '2018', 'Available for 9 days'], ['https://www.bbc.co.uk/iplayer/episode/p01c8jm8/burton-and-taylor', 'Burton and Taylor', '82 mins', '9pm 22 Jul 2013', 'Available for 9 months'], ['https://www.bbc.co.uk/iplayer/episode/b0078ns6/cat-people', 'Cat People', '70 mins', '1942', 'Available for over a year'], ['https://www.bbc.co.uk/iplayer/episode/b0078ygf/the-curse-of-the-cat-people', 'The Curse of the Cat People', '67 mins', '1944', 'Available for over a year'], ['https://www.bbc.co.uk/iplayer/episode/p06zxzgk/diagnosis', 'Diagnosis', '18 mins', '8 Feb 2019', 'Available for 5 months'], ['https://www.bbc.co.uk/iplayer/episode/p07dh199/the-edge-of-seventeen', 'The Edge of Seventeen', '97 mins', '30 Jun 2019', 'Available for 4 months'], ['https://www.bbc.co.uk/iplayer/episode/b039c8s6/eight-minutes-idle', 'Eight Minutes Idle', '80 mins', '2012', 'Expires tonight 1:40am'], ['https://www.bbc.co.uk/iplayer/episode/b0bwdss2/happy-new-year-colin-burstead', 'Happy New Year, Colin Burstead', '89 mins', '2018', 'Available for over a year'], ['https://www.bbc.co.uk/iplayer/episode/b08kbrdk/home-from-home-chronicle-of-a-vision-part-2', 'Home from Home: Chronicle of a Vision', '121 mins', '2013', 'Available for 24 days'], ['https://www.bbc.co.uk/iplayer/episode/m000777b/ibiza-the-silent-movie', 'Ibiza: The Silent Movie', '91 mins', '10pm 2 Aug 2019', 'Available for 23 days'], ['https://www.bbc.co.uk/iplayer/episode/p06zb13p/it-follows', 'It Follows', '96 mins', '13 Feb 2019', 'Available until Mon 9am'], ['https://www.bbc.co.uk/iplayer/episode/b0078t0v/i-walked-with-a-zombie', 'I Walked With a Zombie', '66 mins', '1943', 'Available for over a year'], ['https://www.bbc.co.uk/iplayer/episode/b007q86z/the-jackal', 'The Jackal', '116 mins', '23 Jan 2019', 'Available for 2 months'], ['https://www.bbc.co.uk/iplayer/episode/p07ctstz/kate-nash-underestimate-the-girl', 'Kate Nash: Underestimate the Girl', '88 mins', '23 Jun 2019', 'Available for 4 months'], ['https://www.bbc.co.uk/iplayer/episode/b0125kjj/kung-fu-panda', 'Kung Fu Panda', '82 mins', '2008', 'Expires tomorrow 6:45pm'], ['https://www.bbc.co.uk/iplayer/episode/b06wcqyr/the-lady-in-the-van', 'The Lady in the Van', '99 mins', '2015', 'Available until Mon 1:40am'], ['https://www.bbc.co.uk/iplayer/episode/b0074fln/lara-croft-tomb-raider', 'Lara Croft: Tomb Raider', '94 mins', '2001', 'Available for 3 months'], ['https://www.bbc.co.uk/iplayer/episode/b007ck00/lara-croft-tomb-raider-the-cradle-of-life', 'Lara Croft Tomb Raider: The Cradle of Life', '105 mins', '2003', 'Available for 3 months'], ['https://www.bbc.co.uk/iplayer/episode/b007cjz1/man-on-the-moon', 'Man on the Moon', '110 mins', '1999', 'Available for 4 months'], ['https://www.bbc.co.uk/iplayer/episode/b06pdxyf/man-up', 'Man Up', '82 mins', '2015', 'Available for 9 days'], ['https://www.bbc.co.uk/iplayer/episode/m000773f/midnight-special', 'Midnight Special', '105 mins', '2016', 'Available for 17 days'], ['https://www.bbc.co.uk/iplayer/episode/p07cttsd/minding-the-gap-an-american-skateboarding-story', 'Minding the Gap: An American Skateboarding Story', '88 mins', '23 Jun 2019', 'Available for 4 months'], ['https://www.bbc.co.uk/iplayer/episode/m0007944/next-big-thing-series-1-asset-management', 'Next Big Thing', '8 mins', '11:50pm 28 Jul 2019', 'Available for 18 days'], ['https://www.bbc.co.uk/iplayer/episode/b0078pw1/night-of-the-living-dead', 'Night of the Living Dead', '95 mins', '1968', 'Available for over a year'], ['https://www.bbc.co.uk/iplayer/episode/b038z5hf/now-is-good', 'Now Is Good', '96 mins', '2012', 'Available for 17 days'], ['https://www.bbc.co.uk/iplayer/episode/b00ggpzy/oklahoma', 'Oklahoma!', '134 mins', '1955', 'Available until Sun 4pm'], ['https://www.bbc.co.uk/iplayer/episode/b0184xhh/the-other-man', 'The Other Man', '82 mins', '2008', 'Available for 10 days'], ['https://www.bbc.co.uk/iplayer/episode/b03ttndm/philomena', 'Philomena', '91 mins', '2013', 'Available for 16 days'], ['https://www.bbc.co.uk/iplayer/episode/b00749zc/primary-colors', 'Primary Colors', '132 mins', '1998', 'Available for 4 months'], ['https://www.bbc.co.uk/iplayer/episode/b01qbz9m/queen-of-versailles', 'Queen of Versailles', '89 mins', '10pm 28 Jan 2013', 'Available for 4 months'], ['https://www.bbc.co.uk/iplayer/episode/b0074t6v/the-red-shoes', 'The Red Shoes', '128 mins', '1948', 'Available for 23 days'], ['https://www.bbc.co.uk/iplayer/episode/b0074924/the-relic', 'The Relic', '102 mins', '1997', 'Available for 4 months'], ['https://www.bbc.co.uk/iplayer/episode/b05zxj5s/shaun-the-sheep-the-movie', 'Shaun the Sheep the Movie', '78 mins', '2015', 'Available for 16 days'], ['https://www.bbc.co.uk/iplayer/episode/p04sh6zg/simon-amstell-carnage', 'Simon Amstell: Carnage', '65 mins', '19 Mar 2017', 'Available for over a year'], ['https://www.bbc.co.uk/iplayer/episode/b06vt9qf/spotlight', 'Spotlight', '118 mins', '2015', 'Available for 11 days'], ['https://www.bbc.co.uk/iplayer/episode/m0005prp/storyville-the-raft', 'Storyville', '94 mins', '9pm 2 Jun 2019', 'Available for 3 months'], ['https://www.bbc.co.uk/iplayer/episode/b01pzqj3/wallace-and-gromit-a-grand-day-out', 'Wallace and Gromit: A Grand Day Out', '23 mins', '1992', 'Available for 23 days'], ['https://www.bbc.co.uk/iplayer/episode/b00g8hbw/wallace-and-gromit-a-matter-of-loaf-and-death', 'Wallace and Gromit: A Matter of Loaf and Death', '29 mins', '8:30pm 25 Dec 2008', 'Available for 8 days'], ['https://www.bbc.co.uk/iplayer/episode/b08nfjwt/wallace-and-gromit-the-wrong-trousers', 'Wallace and Gromit: The Wrong Trousers', '29 mins', '1993', 'Available for 16 days'], ['https://www.bbc.co.uk/iplayer/episode/b0078nh3/wonder-boys', 'Wonder Boys', '103 mins', '2000', 'Available for 4 months']]\n"
          ],
          "name": "stdout"
        }
      ]
    },
    {
      "cell_type": "code",
      "metadata": {
        "id": "GaCtD6-0gAnq",
        "colab_type": "code",
        "colab": {}
      },
      "source": [
        ""
      ],
      "execution_count": 0,
      "outputs": []
    },
    {
      "cell_type": "markdown",
      "metadata": {
        "id": "eheuN3a2e4g2",
        "colab_type": "text"
      },
      "source": [
        ""
      ]
    },
    {
      "cell_type": "code",
      "metadata": {
        "id": "ZzrARuHKwNvP",
        "colab_type": "code",
        "outputId": "60ef1df8-07ad-4033-a75d-e4c251499dc9",
        "colab": {
          "base_uri": "https://localhost:8080/",
          "height": 176
        }
      },
      "source": [
        "#clean up our movie list\n",
        "df=pd.DataFrame(data=outerList, columns=['link','Title','durn','Year','availabiliy']).dropna()\n",
        "df['Year']=df['Year'].str[-4:]\n",
        "df['durn']=df['durn'].str[:-4]\n",
        "df=df.dropna().astype({'Year': 'int64'})\n",
        "#merge it with the 1001 movies list\n",
        "on_nf = pd.merge(ml, df,  how='inner', left_on=['Title','Year'], right_on = ['Title','Year'])\n",
        "\n",
        "#generate a nice markdown table that can be pasted into Reddit\n",
        "print(tabulate(on_nf.drop(['Metascore','Language','Country','IMDBRating', 'Plot','Awards','imdbID','durn'],axis=1).sort_values('Title')\n",
        ", tablefmt=\"pipe\", headers=\"keys\", showindex=False))\n"
      ],
      "execution_count": 16,
      "outputs": [
        {
          "output_type": "stream",
          "text": [
            "| Title                    | Genre                                    | Director                           |   Year |   Runtime | link                                                                    | availabiliy               |\n",
            "|:-------------------------|:-----------------------------------------|:-----------------------------------|-------:|----------:|:------------------------------------------------------------------------|:--------------------------|\n",
            "| Cat People               | Fantasy, Horror, Thriller                | Jacques Tourneur                   |   1942 |        73 | https://www.bbc.co.uk/iplayer/episode/b0078ns6/cat-people               | Available for over a year |\n",
            "| Night of the Living Dead | Horror                                   | George A. Romero                   |   1968 |        96 | https://www.bbc.co.uk/iplayer/episode/b0078pw1/night-of-the-living-dead | Available for over a year |\n",
            "| Oklahoma!                | Comedy, Drama, Musical, Romance, Western | Fred Zinnemann                     |   1955 |       145 | https://www.bbc.co.uk/iplayer/episode/b00ggpzy/oklahoma                 | Available until Sun 4pm   |\n",
            "| Spotlight                | Crime, Drama, History                    | Tom McCarthy                       |   2015 |       129 | https://www.bbc.co.uk/iplayer/episode/b06vt9qf/spotlight                | Available for 11 days     |\n",
            "| The Big Short            | Biography, Comedy, Drama, History        | Adam McKay                         |   2015 |       130 | https://www.bbc.co.uk/iplayer/episode/b06vq3yn/the-big-short            | Available for 10 days     |\n",
            "| The Red Shoes            | Drama, Music, Romance                    | Michael Powell, Emeric Pressburger |   1948 |       134 | https://www.bbc.co.uk/iplayer/episode/b0074t6v/the-red-shoes            | Available for 23 days     |\n"
          ],
          "name": "stdout"
        }
      ]
    },
    {
      "cell_type": "code",
      "metadata": {
        "id": "t9awxRpGHQ-L",
        "colab_type": "code",
        "colab": {}
      },
      "source": [
        ""
      ],
      "execution_count": 0,
      "outputs": []
    }
  ]
}