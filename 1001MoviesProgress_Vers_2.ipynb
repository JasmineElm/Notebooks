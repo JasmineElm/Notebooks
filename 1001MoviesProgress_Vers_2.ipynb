{
  "nbformat": 4,
  "nbformat_minor": 0,
  "metadata": {
    "colab": {
      "name": "1001MoviesProgress Vers. 2",
      "version": "0.3.2",
      "provenance": [],
      "collapsed_sections": []
    },
    "kernelspec": {
      "name": "python3",
      "display_name": "Python 3"
    }
  },
  "cells": [
    {
      "cell_type": "markdown",
      "metadata": {
        "id": "IlXwBvA-1r3c",
        "colab_type": "text"
      },
      "source": [
        "# \"1001 Movies...\" Progress\n"
      ]
    },
    {
      "cell_type": "code",
      "metadata": {
        "id": "bmbLvEYZOwG5",
        "colab_type": "code",
        "colab": {}
      },
      "source": [
        "from bs4 import BeautifulSoup\n",
        "import requests\n",
        "from datetime import datetime, date \n",
        "from tabulate import tabulate #to export dataframe as markdown table\n",
        "from dateutil.relativedelta import relativedelta\n",
        "import pandas as pd"
      ],
      "execution_count": 0,
      "outputs": []
    },
    {
      "cell_type": "code",
      "metadata": {
        "id": "A25LA7cTTQKt",
        "colab_type": "code",
        "colab": {}
      },
      "source": [
        "lastMonth=True  # the markdown table will be for last month\n",
        "                # change to false to report in the current month\n",
        "whoami='jasmineelm' #your letterboxd username\n",
        "\n",
        "#show these columns in the final table\n",
        "showColumns={\n",
        "    'Year':True ,\n",
        "    'Rating' :True,\n",
        "    'Seen Before' :True,\n",
        "    }"
      ],
      "execution_count": 0,
      "outputs": []
    },
    {
      "cell_type": "code",
      "metadata": {
        "id": "9RcBw48ZNV8p",
        "colab_type": "code",
        "colab": {}
      },
      "source": [
        "##download, and parse the 1001 movies list\n",
        "\n",
        "url ='https://gist.githubusercontent.com/JasmineElm/ce8219c58bd416c0aec588a97e168221/raw/a109d4d78834a0426779fb8e9588448022458b39/gistfile1.csv'\n",
        "r = requests.get(url)\n",
        "filename = url.split('/')[-1]\n",
        " \n",
        "with open(filename,'wb') as output_file:\n",
        "    output_file.write(r.content)\n",
        "\n",
        "df=pd.read_csv(filename,index_col=[0])\n"
      ],
      "execution_count": 0,
      "outputs": []
    },
    {
      "cell_type": "code",
      "metadata": {
        "id": "YY6dddoBULXj",
        "colab_type": "code",
        "colab": {}
      },
      "source": [
        "#download, parse watched list\n",
        "\n",
        "##start by building a list of the diary pages\n",
        "letterboxd='https://letterboxd.com/'+whoami+'/films/diary/'\n",
        "linkList=[]\n",
        "diary = requests.get(letterboxd)\n",
        "soup = BeautifulSoup(diary.text, \"html.parser\")\n",
        "\n",
        "rawlist=soup.find_all(\"li\",{\"class\":\"paginate-page\"})\n",
        "for link in soup.find_all(\"li\",{\"class\":\"paginate-page\"}):\n",
        "\n",
        "  if link.a != None: #ignore list items which don't have an 'a' tag.\n",
        "    upperBound=int(str(link.a.contents[0]))\n",
        "\n",
        "for i in range(1, upperBound+1):\n",
        "  linkList.append(letterboxd+'page/'+ str(i)+\"/\")\n",
        "\n",
        "# generate a list of diary entries.\n",
        "# each inner list represents a single viewing of a film\n",
        "newList=[]\n",
        "for page in linkList:\n",
        "  diary = requests.get(page)\n",
        "  soup = BeautifulSoup(diary.text, \"html.parser\") \n",
        "\n",
        "  for itm in soup.find_all(\"tr\",{\"class\":\"diary-entry-row\"}):\n",
        "    innerlist=[]\n",
        "    date= datetime.strptime(itm.find(\"td\",{\"class\":\"td-day diary-day center\"}).a['href'][-11:].replace(\"/\",\"\"),\"%Y%m%d\")\n",
        "    movie = ''.join(itm.find(\"h3\").a.contents)\n",
        "    released=''.join(itm.find(\"td\",{\"class\":\"td-released\"}).span.contents)\n",
        "    rating=''.join(itm.find(\"td\",{\"class\":\"td-rating\"}).span.contents)\n",
        "\n",
        "    like=False\n",
        "    for item in itm.find(\"td\",{\"class\":\"td-like\"}).children:\n",
        "      if item.find(\"span\")==None:\n",
        "        like=True\n",
        "  \n",
        "    rewatch=True  \n",
        "    for item2 in itm.find(\"td\",{\"class\":\"td-rewatch\"}).attrs['class']:\n",
        "      if item2=='icon-status-off':\n",
        "        rewatch=False\n",
        "        \n",
        "    innerlist.append(movie)\n",
        "    innerlist.append(released)\n",
        "    innerlist.append(date)\n",
        "    innerlist.append(rating)\n",
        "    innerlist.append(like)\n",
        "    innerlist.append(rewatch)\n",
        "    newList.append(innerlist)\n",
        "    \n",
        "titles=['Title', 'Year','DateSeen', 'Rating','Like', 'Seen Before']\n",
        "wdf=pd.DataFrame(newList, columns=titles)\n",
        "wdf['Year'] = wdf['Year'].astype(str).astype(int)\n"
      ],
      "execution_count": 0,
      "outputs": []
    },
    {
      "cell_type": "code",
      "metadata": {
        "id": "5URaxx3EqEMI",
        "colab_type": "code",
        "outputId": "fd7ee297-d07d-41a3-f34c-28ca115fc0f1",
        "colab": {
          "base_uri": "https://localhost:8080/",
          "height": 1000
        }
      },
      "source": [
        "## build a table for Reddit\n",
        "## returns watched films for the previous month\n",
        "\n",
        "y=date.today().year\n",
        "m=date.today().month\n",
        "d=1\n",
        "ymd=[y,m,d]\n",
        "if lastMonth: \n",
        "  startDate=datetime(ymd[0],ymd[1],ymd[2])-relativedelta(months=1)\n",
        "else:\n",
        "  startDate=datetime(ymd[0],ymd[1],ymd[2])\n",
        "\n",
        "endDate=startDate+ relativedelta(months=1)\n",
        "\n",
        "dfn = wdf.merge(df.drop_duplicates(), on=['Title','Year'], \n",
        "                   how='left', indicator=True)\n",
        "\n",
        "dropColumns=['Metascore','Genre','Director','Language','Country',\n",
        "                   'IMDBRating','Plot','Awards','Runtime','Like','_merge',\n",
        "                   'imdbID','DateSeen']\n",
        "\n",
        "for key,value in showColumns.items():\n",
        "  if value==False:\n",
        "    dropColumns.append(str(key))  \n",
        "    print(dropColumns[-1])           \n",
        "\n",
        "##add some nice formatting\n",
        "dfn['Seen On']=dfn['DateSeen'].apply(lambda x: x.strftime('%b-%d-%Y'))\n",
        "dfn['Seen Before'] = dfn['Seen Before'].map({True: '✓', False: ''})\n",
        "\n",
        "forReddit=dfn[(dfn['DateSeen'] >= startDate) & (dfn['DateSeen'] \n",
        "              < endDate)& (dfn['_merge']=='both')].drop(dropColumns\n",
        "                  , axis=1).dropna().sort_values(by=['Seen On', 'Title'])\n",
        "print(tabulate(forReddit, tablefmt=\"pipe\", headers=\"keys\", showindex=False))\n",
        "\n",
        "print('\\n\\nProgress:'+ str(dfn[(dfn['_merge']=='both') & (dfn['DateSeen'] \n",
        "              < endDate)].shape[0])+\"/\"+str(df.shape[0]))"
      ],
      "execution_count": 0,
      "outputs": [
        {
          "output_type": "stream",
          "text": [
            "| Title                           |   Year | Rating   | Seen Before   | Seen On     |\n",
            "|:--------------------------------|-------:|:---------|:--------------|:------------|\n",
            "| Magnolia                        |   1999 | ★★★★     |               | Jul-01-2019 |\n",
            "| Blade Runner 2049               |   2017 | ★★★★★    | ✓             | Jul-02-2019 |\n",
            "| Mad Max: Fury Road              |   2015 | ★★★★★    | ✓             | Jul-04-2019 |\n",
            "| Avatar                          |   2009 | ★★★½     | ✓             | Jul-05-2019 |\n",
            "| Black Panther                   |   2018 | ★★★★     |               | Jul-05-2019 |\n",
            "| F for Fake                      |   1973 | ★★★      |               | Jul-05-2019 |\n",
            "| Fantasia                        |   1940 | ★★★★     | ✓             | Jul-05-2019 |\n",
            "| Killer of Sheep                 |   1978 | ★★★½     |               | Jul-05-2019 |\n",
            "| La La Land                      |   2016 | ★★★★½    |               | Jul-05-2019 |\n",
            "| The Shape of Water              |   2017 | ★★★★½    |               | Jul-05-2019 |\n",
            "| Ali: Fear Eats the Soul         |   1974 | ★★★★     |               | Jul-06-2019 |\n",
            "| Shanghai Express                |   1932 | ★★★      |               | Jul-07-2019 |\n",
            "| Viy                             |   1967 | ★★★★★    |               | Jul-07-2019 |\n",
            "| Faster, Pussycat! Kill! Kill!   |   1965 | ★★★½     |               | Jul-08-2019 |\n",
            "| WR: Mysteries of the Organism   |   1971 | ★★★½     |               | Jul-08-2019 |\n",
            "| Deep End                        |   1970 | ★★★½     |               | Jul-09-2019 |\n",
            "| Letter from an Unknown Woman    |   1948 | ★★★      |               | Jul-09-2019 |\n",
            "| Things to Come                  |   1936 | ★★★½     |               | Jul-10-2019 |\n",
            "| Cries and Whispers              |   1972 | ★★★★     |               | Jul-12-2019 |\n",
            "| Man Bites Dog                   |   1992 | ★★★★     |               | Jul-12-2019 |\n",
            "| Secret Beyond the Door          |   1947 | ★★★½     |               | Jul-12-2019 |\n",
            "| The Color of Pomegranates       |   1969 | ★★★★     |               | Jul-12-2019 |\n",
            "| The Dark Knight                 |   2008 | ★★★★     |               | Jul-12-2019 |\n",
            "| The Night of the Hunter         |   1955 | ★★★★½    |               | Jul-12-2019 |\n",
            "| The Seventh Seal                |   1957 | ★★★★     |               | Jul-12-2019 |\n",
            "| My Darling Clementine           |   1946 | ★★★★     |               | Jul-13-2019 |\n",
            "| The Killers                     |   1946 | ★★★★     |               | Jul-13-2019 |\n",
            "| Seven Brides for Seven Brothers |   1954 | ★★★      |               | Jul-14-2019 |\n",
            "| Mondo Cane                      |   1962 | ★★★½     |               | Jul-15-2019 |\n",
            "| Artists and Models              |   1955 | ★★★½     |               | Jul-16-2019 |\n",
            "| An Actor's Revenge              |   1963 | ★★★★     |               | Jul-17-2019 |\n",
            "| Dawson City: Frozen Time        |   2016 | ★★★★½    |               | Jul-17-2019 |\n",
            "| Kiss Me Deadly                  |   1955 | ★★★★½    |               | Jul-17-2019 |\n",
            "| The Godfather                   |   1972 | ★★★★★    | ✓             | Jul-17-2019 |\n",
            "| Gomorrah                        |   2008 | ★★★★½    | ✓             | Jul-18-2019 |\n",
            "| The Godfather: Part II          |   1974 | ★★★★½    | ✓             | Jul-18-2019 |\n",
            "| Total Recall                    |   1990 | ★★★★     | ✓             | Jul-18-2019 |\n",
            "| A Question of Silence           |   1982 | ★★★½     |               | Jul-19-2019 |\n",
            "| Jaws                            |   1975 | ★★★★½    |               | Jul-19-2019 |\n",
            "| The Theory of Everything        |   2014 | ★★★★     |               | Jul-22-2019 |\n",
            "| L.A. Confidential               |   1997 | ★★★★     |               | Jul-23-2019 |\n",
            "| Bridge of Spies                 |   2015 | ★★★★     |               | Jul-24-2019 |\n",
            "| JFK                             |   1991 | ★★★      |               | Jul-26-2019 |\n",
            "| Monsters                        |   2010 | ★★★★½    |               | Jul-26-2019 |\n",
            "| Scarface                        |   1932 | ★★★      |               | Jul-26-2019 |\n",
            "| Blue Is the Warmest Color       |   2013 | ★★★★     |               | Jul-27-2019 |\n",
            "| Boyhood                         |   2014 | ★★★★     |               | Jul-27-2019 |\n",
            "| The Blair Witch Project         |   1999 | ★★★★     |               | Jul-27-2019 |\n",
            "| The Evil Dead                   |   1981 | ★★★★     | ✓             | Jul-28-2019 |\n",
            "| Hour of the Wolf                |   1968 | ★★★½     |               | Jul-29-2019 |\n",
            "| The Quiet Earth                 |   1985 | ★★★★     |               | Jul-29-2019 |\n",
            "| Jacob's Ladder                  |   1990 | ★★★★     |               | Jul-30-2019 |\n",
            "| A Chinese Ghost Story           |   1987 | ★★★      |               | Jul-31-2019 |\n",
            "| Babette's Feast                 |   1987 | ★★★★     |               | Jul-31-2019 |\n",
            "\n",
            "\n",
            "Progress:438/1210\n"
          ],
          "name": "stdout"
        }
      ]
    },
    {
      "cell_type": "code",
      "metadata": {
        "id": "ksmCDoskN_rR",
        "colab_type": "code",
        "outputId": "c73baa93-1788-41bb-c0d8-607ef13d13fe",
        "colab": {
          "base_uri": "https://localhost:8080/",
          "height": 385
        }
      },
      "source": [
        "#merge and munge the two datasets, print out some stats\n",
        "\n",
        "fulldf = pd.merge(df, wdf,  how='left', left_on=['Title','Year'], right_on = ['Title','Year'])\n",
        "\n",
        "fulldf[pd.isnull(fulldf['DateSeen'])]\n",
        "countseen=fulldf.dropna(subset=['DateSeen'])\n",
        "\n",
        "totDays=abs((datetime.now() - fulldf['DateSeen'].min()).days) #based on the date of the first diary entry in the 1001 list\n",
        "print('day:'+ str(totDays))\n",
        "\n",
        "print(str(round((countseen.shape[0]/fulldf.shape[0])*100,2))+ \"% seen\")\n",
        "print(str(round(100*sum(countseen['Runtime'])/fulldf.sum(axis=0)[6],2))+ \"% seen by length\")\n",
        "\n",
        "print(str(countseen.shape[0])+ \" Films seen\")\n",
        "print(str(round(countseen.shape[0]/totDays,2)) + \" average per day\")\n",
        "\n",
        "##get a linechart of film seen Vs time\n",
        "seendf=countseen.groupby(['DateSeen']).size().cumsum()\n",
        "seendf.plot.line()"
      ],
      "execution_count": 0,
      "outputs": [
        {
          "output_type": "stream",
          "text": [
            "day:214\n",
            "37.44% seen\n",
            "34.48% seen by length\n",
            "453 Films seen\n",
            "2.12 average per day\n"
          ],
          "name": "stdout"
        },
        {
          "output_type": "execute_result",
          "data": {
            "text/plain": [
              "<matplotlib.axes._subplots.AxesSubplot at 0x7f75c253e780>"
            ]
          },
          "metadata": {
            "tags": []
          },
          "execution_count": 22
        },
        {
          "output_type": "display_data",
          "data": {
            "image/png": "[encoded data removed]",
            "text/plain": [
              "<Figure size 432x288 with 1 Axes>"
            ]
          },
          "metadata": {
            "tags": []
          }
        }
      ]
    }
  ]
}