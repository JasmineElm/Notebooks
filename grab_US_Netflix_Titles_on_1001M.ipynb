{
  "nbformat": 4,
  "nbformat_minor": 0,
  "metadata": {
    "colab": {
      "name": "grab_US_Netflix_Titles_on_1001M",
      "version": "0.3.2",
      "provenance": [],
      "collapsed_sections": [],
      "include_colab_link": true
    },
    "kernelspec": {
      "display_name": "Python 3",
      "language": "python",
      "name": "python3"
    }
  },
  "cells": [
    {
      "cell_type": "markdown",
      "metadata": {
        "id": "view-in-github",
        "colab_type": "text"
      },
      "source": [
        "<a href=\"https://colab.research.google.com/github/JasmineElm/Notebooks/blob/master/grab_US_Netflix_Titles_on_1001M.ipynb\" target=\"_parent\"><img src=\"https://colab.research.google.com/assets/colab-badge.svg\" alt=\"Open In Colab\"/></a>"
      ]
    },
    {
      "cell_type": "markdown",
      "metadata": {
        "id": "NckDW0kRQ6e6",
        "colab_type": "text"
      },
      "source": [
        "_version 2:_\n",
        "\n",
        "+ explicitly grabs the fields from the tables (rather than grabbing cell as a whole)\n",
        "+ uses a different (netflix specific) list for comparison\n",
        "+ no longer grabs unnesecary fields\n",
        "\n"
      ]
    },
    {
      "cell_type": "markdown",
      "metadata": {
        "id": "yHWpmuDPQ396",
        "colab_type": "text"
      },
      "source": [
        ""
      ]
    },
    {
      "cell_type": "code",
      "metadata": {
        "id": "Q6bM_TQIQ_Mr",
        "colab_type": "code",
        "colab": {}
      },
      "source": [
        "import pandas as pd\n",
        "from bs4 import BeautifulSoup\n",
        "import requests\n",
        "from tabulate import tabulate #to export dataframe as markdown table"
      ],
      "execution_count": 0,
      "outputs": []
    },
    {
      "cell_type": "code",
      "metadata": {
        "id": "xMZ4DQvpmnlh",
        "colab_type": "code",
        "colab": {}
      },
      "source": [
        "## grab our 1001 Movies List, download, and load into a dataframe \n",
        "url ='https://gist.githubusercontent.com/JasmineElm/ce8219c58bd416c0aec588a97e168221/raw/57717b4ae21f1721b2e1c22d2e8a74795e0e54d4/netflixTitles.csv'\n",
        "r = requests.get(url)\n",
        "filename = url.split('/')[-1]\n",
        " \n",
        "with open(filename,'wb') as output_file:\n",
        "    output_file.write(r.content)\n",
        "\n",
        "ml=pd.read_csv(filename,index_col=[0])\n"
      ],
      "execution_count": 0,
      "outputs": []
    },
    {
      "cell_type": "code",
      "metadata": {
        "id": "FEdUbUeLe44D",
        "colab_type": "code",
        "colab": {}
      },
      "source": [
        "#download the webpage holding the movielist\n",
        "url='https://www.finder.com/netflix-movies'\n",
        "diary = requests.get(url)\n",
        "soup = BeautifulSoup(diary.text, \"html.parser\")\n"
      ],
      "execution_count": 0,
      "outputs": []
    },
    {
      "cell_type": "code",
      "metadata": {
        "id": "GaCtD6-0gAnq",
        "colab_type": "code",
        "colab": {}
      },
      "source": [
        "#generate a list of movies\n",
        "outerList=[]\n",
        "for row in soup.find_all('tr'):\n",
        "  innerList=[]\n",
        "  for cell in row.find_all('td',{\"data-title\": \"Title\"}):\n",
        "   innerList.append(cell.find('b').text)\n",
        "  for cell in row.find_all('td',{\"data-title\": \"Year of release\"}):\n",
        "    innerList.append(cell.text)\n",
        "  outerList.append(innerList)"
      ],
      "execution_count": 0,
      "outputs": []
    },
    {
      "cell_type": "markdown",
      "metadata": {
        "id": "eheuN3a2e4g2",
        "colab_type": "text"
      },
      "source": [
        ""
      ]
    },
    {
      "cell_type": "code",
      "metadata": {
        "id": "ZzrARuHKwNvP",
        "colab_type": "code",
        "outputId": "a1be3008-8e0f-45b5-dd84-090a90434355",
        "colab": {
          "base_uri": "https://localhost:8080/",
          "height": 1000
        }
      },
      "source": [
        "#clean up our movie list\n",
        "df=pd.DataFrame(data=outerList, columns=['Title','Year']).dropna().astype({'Year': 'int64'})\n",
        "\n",
        "#merge it with the 1001 movies list\n",
        "on_nf = pd.merge(ml, df,  how='inner', left_on=['Title','Year'], right_on = ['Title','Year'])\n",
        "\n",
        "#generate a nice markdown table that can be pasted into Reddit\n",
        "print(tabulate(on_nf.drop(['Metascore','Language','Country','IMDBRating', 'Plot','Awards','imdbID'],axis=1).sort_values('Title')\n",
        ", tablefmt=\"pipe\", headers=\"keys\", showindex=False))"
      ],
      "execution_count": 45,
      "outputs": [
        {
          "output_type": "stream",
          "text": [
            "| Title                               | Genre                                      | Director                              |   Year |   Runtime |\n",
            "|:------------------------------------|:-------------------------------------------|:--------------------------------------|-------:|----------:|\n",
            "| 13TH                                | Documentary, Crime, History                | Ava DuVernay                          |   2016 |       100 |\n",
            "| A Clockwork Orange                  | Crime, Drama, Sci-Fi                       | Stanley Kubrick                       |   1971 |       136 |\n",
            "| A Separation                        | Crime, Drama, Family, Mystery              | Asghar Farhadi                        |   2011 |       123 |\n",
            "| A.I. Artificial Intelligence        | Adventure, Drama, Sci-Fi                   | Steven Spielberg                      |   2001 |       146 |\n",
            "| All the President's Men             | Biography, Drama, History, Thriller        | Alan J. Pakula                        |   1976 |       138 |\n",
            "| Babel                               | Drama                                      | Alejandro G. Iñárritu                 |   2006 |       143 |\n",
            "| Black Panther                       | Action, Adventure, Sci-Fi                  | Ryan Coogler                          |   2018 |       134 |\n",
            "| Blue Is the Warmest Color           | Drama, Romance                             | Abdellatif Kechiche                   |   2013 |       180 |\n",
            "| Bonnie and Clyde                    | Action, Biography, Crime, Drama            | Arthur Penn                           |   1967 |       111 |\n",
            "| Boyhood                             | Drama                                      | Richard Linklater                     |   2014 |       165 |\n",
            "| Cabaret                             | Drama, Musical                             | Bob Fosse                             |   1972 |       124 |\n",
            "| Carrie                              | Horror                                     | Brian De Palma                        |   1976 |        98 |\n",
            "| Crouching Tiger, Hidden Dragon      | Action, Adventure, Fantasy, Romance        | Ang Lee                               |   2000 |       120 |\n",
            "| Deliverance                         | Adventure, Drama, Thriller                 | John Boorman                          |   1972 |       109 |\n",
            "| Get Carter                          | Crime, Thriller                            | Mike Hodges                           |   1971 |       112 |\n",
            "| Hell or High Water                  | Action, Crime, Drama, Thriller, Western    | David Mackenzie                       |   2016 |       102 |\n",
            "| I, Daniel Blake                     | Drama                                      | Ken Loach                             |   2016 |       100 |\n",
            "| Inglourious Basterds                | Adventure, Drama, War                      | Quentin Tarantino, Eli Roth           |   2009 |       153 |\n",
            "| Lincoln                             | Biography, Drama, History, War             | Steven Spielberg                      |   2012 |       150 |\n",
            "| Lock, Stock and Two Smoking Barrels | Comedy, Crime                              | Guy Ritchie                           |   1998 |       107 |\n",
            "| Mean Streets                        | Crime, Drama, Thriller                     | Martin Scorsese                       |   1973 |       112 |\n",
            "| Monty Python and the Holy Grail     | Adventure, Comedy, Fantasy                 | Terry Gilliam, Terry Jones            |   1975 |        91 |\n",
            "| Moonlight                           | Drama                                      | Barry Jenkins                         |   2016 |       111 |\n",
            "| Network                             | Drama                                      | Sidney Lumet                          |   1976 |       121 |\n",
            "| No Country for Old Men              | Crime, Drama, Thriller                     | Ethan Coen, Joel Coen                 |   2007 |       122 |\n",
            "| Once Upon a Time in America         | Crime, Drama                               | Sergio Leone                          |   1984 |       229 |\n",
            "| Philadelphia                        | Drama                                      | Jonathan Demme                        |   1993 |       125 |\n",
            "| Platoon                             | Drama, War                                 | Oliver Stone                          |   1986 |       120 |\n",
            "| Poltergeist                         | Horror, Thriller                           | Tobe Hooper                           |   1982 |       114 |\n",
            "| Pulp Fiction                        | Crime, Drama                               | Quentin Tarantino                     |   1994 |       154 |\n",
            "| Rain Man                            | Drama                                      | Barry Levinson                        |   1988 |       133 |\n",
            "| San Pietro                          | Documentary, Short, War                    | John Huston                           |   1945 |        32 |\n",
            "| Scarface                            | Crime, Drama                               | Brian De Palma                        |   1983 |       170 |\n",
            "| Schindler's List                    | Biography, Drama, History                  | Steven Spielberg                      |   1993 |       195 |\n",
            "| Scream                              | Horror, Mystery                            | Wes Craven                            |   1996 |       111 |\n",
            "| She's Gotta Have It                 | Comedy, Romance                            | Spike Lee                             |   1986 |        84 |\n",
            "| Strangers on a Train                | Crime, Film-Noir, Thriller                 | Alfred Hitchcock                      |   1951 |       101 |\n",
            "| Taxi Driver                         | Crime, Drama                               | Martin Scorsese                       |   1976 |       114 |\n",
            "| The Aviator                         | Biography, Drama                           | Martin Scorsese                       |   2004 |       170 |\n",
            "| The Dark Knight                     | Action, Crime, Drama, Thriller             | Christopher Nolan                     |   2008 |       152 |\n",
            "| The Five Venoms                     | Action                                     | Cheh Chang                            |   1978 |        97 |\n",
            "| The Graduate                        | Comedy, Drama, Romance                     | Mike Nichols                          |   1967 |       106 |\n",
            "| The Hangover                        | Comedy                                     | Todd Phillips                         |   2009 |       100 |\n",
            "| The Hurt Locker                     | Drama, Thriller, War                       | Kathryn Bigelow                       |   2008 |       131 |\n",
            "| The King's Speech                   | Biography, Drama, History                  | Tom Hooper                            |   2010 |       118 |\n",
            "| The Lives of Others                 | Drama, Thriller                            | Florian Henckel von Donnersmarck      |   2006 |       137 |\n",
            "| The Look of Silence                 | Documentary, Biography, History            | Joshua Oppenheimer                    |   2014 |       103 |\n",
            "| The Magnificent Ambersons           | Drama, Romance                             | Orson Welles, Fred Fleck, Robert Wise |   1942 |        88 |\n",
            "| The Sixth Sense                     | Drama, Mystery, Thriller                   | M. Night Shyamalan                    |   1999 |       107 |\n",
            "| The Stranger                        | Crime, Drama, Film-Noir, Mystery, Thriller | Orson Welles                          |   1946 |        95 |\n",
            "| The Theory of Everything            | Biography, Drama, Romance                  | James Marsh                           |   2014 |       123 |\n",
            "| The Third Man                       | Film-Noir, Mystery, Thriller               | Carol Reed                            |   1949 |        93 |\n",
            "| Under the Shadow                    | Drama, Horror, Thriller, War               | Babak Anvari                          |   2016 |        84 |\n",
            "| Under the Skin                      | Drama, Horror, Sci-Fi, Thriller            | Jonathan Glazer                       |   2013 |       108 |\n",
            "| War Horse                           | Drama, History, War                        | Steven Spielberg                      |   2011 |       146 |\n",
            "| Who's Afraid of Virginia Woolf?     | Drama                                      | Mike Nichols                          |   1966 |       131 |\n"
          ],
          "name": "stdout"
        }
      ]
    },
    {
      "cell_type": "code",
      "metadata": {
        "id": "t9awxRpGHQ-L",
        "colab_type": "code",
        "colab": {
          "base_uri": "https://localhost:8080/",
          "height": 677
        },
        "outputId": "1ca19490-ce67-4438-a02f-430016cffbb6"
      },
      "source": [
        "df.head(20)"
      ],
      "execution_count": 23,
      "outputs": [
        {
          "output_type": "execute_result",
          "data": {
            "text/html": [
              "<div>\n",
              "<style scoped>\n",
              "    .dataframe tbody tr th:only-of-type {\n",
              "        vertical-align: middle;\n",
              "    }\n",
              "\n",
              "    .dataframe tbody tr th {\n",
              "        vertical-align: top;\n",
              "    }\n",
              "\n",
              "    .dataframe thead th {\n",
              "        text-align: right;\n",
              "    }\n",
              "</style>\n",
              "<table border=\"1\" class=\"dataframe\">\n",
              "  <thead>\n",
              "    <tr style=\"text-align: right;\">\n",
              "      <th></th>\n",
              "      <th>Title</th>\n",
              "      <th>Year</th>\n",
              "    </tr>\n",
              "  </thead>\n",
              "  <tbody>\n",
              "    <tr>\n",
              "      <th>1</th>\n",
              "      <td>#Roxy</td>\n",
              "      <td>2018</td>\n",
              "    </tr>\n",
              "    <tr>\n",
              "      <th>2</th>\n",
              "      <td>#Rucker50</td>\n",
              "      <td>2016</td>\n",
              "    </tr>\n",
              "    <tr>\n",
              "      <th>3</th>\n",
              "      <td>#Selfie</td>\n",
              "      <td>2014</td>\n",
              "    </tr>\n",
              "    <tr>\n",
              "      <th>4</th>\n",
              "      <td>#Selfie 69</td>\n",
              "      <td>2016</td>\n",
              "    </tr>\n",
              "    <tr>\n",
              "      <th>5</th>\n",
              "      <td>#realityhighOriginal</td>\n",
              "      <td>2017</td>\n",
              "    </tr>\n",
              "    <tr>\n",
              "      <th>6</th>\n",
              "      <td>'89</td>\n",
              "      <td>2017</td>\n",
              "    </tr>\n",
              "    <tr>\n",
              "      <th>7</th>\n",
              "      <td>'Til Death Do Us Part</td>\n",
              "      <td>2017</td>\n",
              "    </tr>\n",
              "    <tr>\n",
              "      <th>8</th>\n",
              "      <td>(T)ERROR</td>\n",
              "      <td>2015</td>\n",
              "    </tr>\n",
              "    <tr>\n",
              "      <th>9</th>\n",
              "      <td>1 Chance 2 Dance</td>\n",
              "      <td>2014</td>\n",
              "    </tr>\n",
              "    <tr>\n",
              "      <th>10</th>\n",
              "      <td>1 Mile to You</td>\n",
              "      <td>2017</td>\n",
              "    </tr>\n",
              "    <tr>\n",
              "      <th>11</th>\n",
              "      <td>10 jours en or</td>\n",
              "      <td>2012</td>\n",
              "    </tr>\n",
              "    <tr>\n",
              "      <th>12</th>\n",
              "      <td>10,000 B.C.</td>\n",
              "      <td>2008</td>\n",
              "    </tr>\n",
              "    <tr>\n",
              "      <th>13</th>\n",
              "      <td>100 Days of Solitude</td>\n",
              "      <td>2018</td>\n",
              "    </tr>\n",
              "    <tr>\n",
              "      <th>14</th>\n",
              "      <td>100 Meters</td>\n",
              "      <td>2016</td>\n",
              "    </tr>\n",
              "    <tr>\n",
              "      <th>15</th>\n",
              "      <td>100 Years: One Woman's Fight for Justice</td>\n",
              "      <td>2016</td>\n",
              "    </tr>\n",
              "    <tr>\n",
              "      <th>16</th>\n",
              "      <td>1000 Rupee Note</td>\n",
              "      <td>2014</td>\n",
              "    </tr>\n",
              "    <tr>\n",
              "      <th>17</th>\n",
              "      <td>12 ROUND GUN</td>\n",
              "      <td>2017</td>\n",
              "    </tr>\n",
              "    <tr>\n",
              "      <th>18</th>\n",
              "      <td>13 Cameras</td>\n",
              "      <td>2015</td>\n",
              "    </tr>\n",
              "    <tr>\n",
              "      <th>19</th>\n",
              "      <td>13 Sins</td>\n",
              "      <td>2014</td>\n",
              "    </tr>\n",
              "    <tr>\n",
              "      <th>20</th>\n",
              "      <td>13THOriginal</td>\n",
              "      <td>2016</td>\n",
              "    </tr>\n",
              "  </tbody>\n",
              "</table>\n",
              "</div>"
            ],
            "text/plain": [
              "                                       Title  Year\n",
              "1                                      #Roxy  2018\n",
              "2                                  #Rucker50  2016\n",
              "3                                    #Selfie  2014\n",
              "4                                 #Selfie 69  2016\n",
              "5                       #realityhighOriginal  2017\n",
              "6                                        '89  2017\n",
              "7                      'Til Death Do Us Part  2017\n",
              "8                                   (T)ERROR  2015\n",
              "9                           1 Chance 2 Dance  2014\n",
              "10                             1 Mile to You  2017\n",
              "11                            10 jours en or  2012\n",
              "12                               10,000 B.C.  2008\n",
              "13                      100 Days of Solitude  2018\n",
              "14                                100 Meters  2016\n",
              "15  100 Years: One Woman's Fight for Justice  2016\n",
              "16                           1000 Rupee Note  2014\n",
              "17                              12 ROUND GUN  2017\n",
              "18                                13 Cameras  2015\n",
              "19                                   13 Sins  2014\n",
              "20                              13THOriginal  2016"
            ]
          },
          "metadata": {
            "tags": []
          },
          "execution_count": 23
        }
      ]
    }
  ]
}